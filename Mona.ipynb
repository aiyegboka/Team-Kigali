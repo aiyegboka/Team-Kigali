{
 "cells": [
  {
   "cell_type": "markdown",
   "metadata": {},
   "source": [
    "# **WEB SCRAPING**\n",
    "\n",
    "<p><h3>Web scraping is a powerful technique used for extracting data from websites. Here, we will use some popular libraries for web scraping like, <code>requests</code>, <code>BeautifulSoup</code>, and <code>selenium</code>.</h3></p>"
   ]
  },
  {
   "cell_type": "code",
   "execution_count": 1,
   "metadata": {},
   "outputs": [],
   "source": [
    "import pandas as pd\n",
    "import requests\n",
    "from bs4 import BeautifulSoup\n",
    "\n",
    "import datetime\n",
    "\n",
    "import smtplib #This library is used to send an email"
   ]
  },
  {
   "cell_type": "markdown",
   "metadata": {},
   "source": [
    "<p><h3>The web scraping is being performed on Address Guru website, link in <code>baseurl</code> </h3><p>"
   ]
  },
  {
   "cell_type": "code",
   "execution_count": 2,
   "metadata": {},
   "outputs": [],
   "source": [
    "baseurl = 'https://www.addressguru.in/'\n",
    "\n",
    "headers = {\n",
    "    \"User-Agent\": \"Mozilla/5.0 (Windows NT 10.0; Win64; x64; rv:109.0) Gecko/20100101 Firefox/117.0\"\n",
    "}"
   ]
  },
  {
   "cell_type": "markdown",
   "metadata": {},
   "source": [
    "## *Scraping the Cafe & Restaurant Category*"
   ]
  },
  {
   "cell_type": "code",
   "execution_count": 3,
   "metadata": {},
   "outputs": [
    {
     "name": "stdout",
     "output_type": "stream",
     "text": [
      "23\n"
     ]
    }
   ],
   "source": [
    "r =requests.get('https://www.addressguru.in/Cafe-&-Restaurants/Dehradun/MTM=')\n",
    "\n",
    "soupy = BeautifulSoup(r.content, 'lxml')\n",
    "soup = BeautifulSoup(soupy.prettify(), 'lxml')\n",
    "\n",
    "product_list = soup.find_all('div', class_ = 'search-top')\n",
    "\n",
    "print(len(product_list))"
   ]
  },
  {
   "cell_type": "code",
   "execution_count": 20,
   "metadata": {},
   "outputs": [
    {
     "name": "stdout",
     "output_type": "stream",
     "text": [
      "20\n"
     ]
    }
   ],
   "source": [
    "product_link = []\n",
    "\n",
    "#Range of 3 pages\n",
    "for x in range(1,3):\n",
    "    #Format with a f-string\n",
    "    r = requests.get(f\"https://www.addressguru.in/Cafe-&-Restaurants/Dehradun/MTM=?page={x}\", headers = headers)\n",
    "    \n",
    "    soupy = BeautifulSoup(r.content, 'lxml')\n",
    "    soup = BeautifulSoup(soupy.prettify(), 'lxml')\n",
    "    \n",
    "    product_list = soup.find_all('a', class_ = 'search-heading')   \n",
    "    urls = [a['href'] for a in product_list]    # getting urls from href\n",
    "    #print(urls)       \n",
    "\n",
    "    # for item in product_list:\n",
    "    #     for link in item.find_all('a', href = True):\n",
    "    #         product_link.append(link['href'])\n",
    "\n",
    "print(len(urls))"
   ]
  },
  {
   "cell_type": "markdown",
   "metadata": {},
   "source": [
    "### **Test Page**"
   ]
  },
  {
   "cell_type": "code",
   "execution_count": 21,
   "metadata": {},
   "outputs": [
    {
     "name": "stdout",
     "output_type": "stream",
     "text": [
      "My Wife's Place 5 ( 2 Reviews ) 2023-10-01\n"
     ]
    }
   ],
   "source": [
    "testlink = 'https://www.addressguru.in/my-wife-s-place'\n",
    "\n",
    "r = requests.get(testlink, headers = headers)\n",
    "\n",
    "soup1 = BeautifulSoup(r.content, 'lxml')\n",
    "soup2 = BeautifulSoup(soup1.prettify(), 'lxml')\n",
    "\n",
    "name = soup2.find('h1', style = \"margin-top:10px;font-size:25px;\").get_text().strip()\n",
    "\n",
    "rating = soup2.find('span', style = \"font-size:16px!important;\").get_text().strip()[:1]\n",
    "\n",
    "review = soup2.find('span', style = \"font-size:16px!important;\").get_text().strip()[-13:]\n",
    "\n",
    "day = datetime.date.today()\n",
    "\n",
    "CafeAndRestaurant = {\n",
    "    'name': name,\n",
    "    'rating': rating,\n",
    "    'review': review,\n",
    "    'date': day\n",
    "}\n",
    "\n",
    "print(name, rating, review, day)"
   ]
  },
  {
   "cell_type": "markdown",
   "metadata": {},
   "source": [
    "## **Finalise Category Scraping**\n",
    "\n",
    "<p>Collecting all data through the product links and converting into a <code>DataFrame</code> and saving as a spreadsheet file.</p>"
   ]
  },
  {
   "cell_type": "code",
   "execution_count": 18,
   "metadata": {},
   "outputs": [
    {
     "data": {
      "text/plain": [
       "['https://www.addressguru.in/kabila-restaurant-dehradun',\n",
       " 'https://www.addressguru.in/sethis-food-corner-sfc-dehradun',\n",
       " 'https://www.addressguru.in/noodle-house-restaurant-n-cafe',\n",
       " 'https://www.addressguru.in/y-cafe-restaurant',\n",
       " 'https://www.addressguru.in/ambrosia-restaurant-dehradun',\n",
       " 'https://www.addressguru.in/south-indian-vibes-dehradun',\n",
       " 'https://www.addressguru.in/desi-chulha-dehradun',\n",
       " 'https://www.addressguru.in/my-wife-s-place',\n",
       " 'https://www.addressguru.in/black-pepper-restaurant',\n",
       " 'https://www.addressguru.in/uttarakhand-food-junction',\n",
       " 'https://www.addressguru.in/uss-da-dhaba-restaurant-dehradun',\n",
       " 'https://www.addressguru.in/mamma-s-taste-restaurant',\n",
       " 'https://www.addressguru.in/tirupati-restaurant-dehradun',\n",
       " 'https://www.addressguru.in/the-northeast-hut-dehradun',\n",
       " 'https://www.addressguru.in/all-day-breakfast-dehradun',\n",
       " 'https://www.addressguru.in/the-punjabi-essence-dehradun',\n",
       " 'https://www.addressguru.in/babagz',\n",
       " 'https://www.addressguru.in/prez-restaurant-dehradun',\n",
       " 'https://www.addressguru.in/best-buddy-s-cafe',\n",
       " 'https://www.addressguru.in/pub-g-lounge-cafe']"
      ]
     },
     "execution_count": 18,
     "metadata": {},
     "output_type": "execute_result"
    }
   ],
   "source": [
    "urls"
   ]
  },
  {
   "cell_type": "code",
   "execution_count": 24,
   "metadata": {},
   "outputs": [
    {
     "name": "stdout",
     "output_type": "stream",
     "text": [
      "{'name': 'Tirupati Restaurant Dehradun', 'rating': '4', 'review': '( 3 Reviews )', 'date': datetime.date(2023, 10, 1)}\n",
      "{'name': 'Tavern Restaurant', 'rating': '5', 'review': '( 1 Reviews )', 'date': datetime.date(2023, 10, 1)}\n",
      "{'name': 'Farm To Fork Restaurant', 'rating': '5', 'review': '( 1 Reviews )', 'date': datetime.date(2023, 10, 1)}\n",
      "{'name': 'Black Pepper Restaurant', 'rating': '5', 'review': '( 2 Reviews )', 'date': datetime.date(2023, 10, 1)}\n",
      "{'name': 'The Punjabi Essence Dehradun', 'rating': '5', 'review': '( 1 Reviews )', 'date': datetime.date(2023, 10, 1)}\n",
      "{'name': \"My Wife's Place\", 'rating': '5', 'review': '( 2 Reviews )', 'date': datetime.date(2023, 10, 1)}\n",
      "{'name': 'BabaGz', 'rating': '(', 'review': '( 0 Reviews )', 'date': datetime.date(2023, 10, 1)}\n",
      "{'name': 'Punjab Restaurant Dehradun', 'rating': '5', 'review': '( 1 Reviews )', 'date': datetime.date(2023, 10, 1)}\n",
      "{'name': 'Y Cafe & Restaurant', 'rating': '5', 'review': '( 1 Reviews )', 'date': datetime.date(2023, 10, 1)}\n",
      "{'name': 'Town Table Restaurant Dehradun', 'rating': '5', 'review': '( 2 Reviews )', 'date': datetime.date(2023, 10, 1)}\n",
      "{'name': 'WALK in WOODS', 'rating': '5', 'review': '( 1 Reviews )', 'date': datetime.date(2023, 10, 1)}\n",
      "{'name': 'Lakshmi Restaurant Dehradun', 'rating': '5', 'review': '( 1 Reviews )', 'date': datetime.date(2023, 10, 1)}\n",
      "{'name': 'Uss Da Dhaba , Restaurant Dehradun', 'rating': '5', 'review': '( 1 Reviews )', 'date': datetime.date(2023, 10, 1)}\n",
      "{'name': 'Gazebo Restaurant & Party Lawn', 'rating': '(', 'review': '( 0 Reviews )', 'date': datetime.date(2023, 10, 1)}\n",
      "{'name': 'Mussoorie Lights Dehradun', 'rating': '5', 'review': '( 1 Reviews )', 'date': datetime.date(2023, 10, 1)}\n",
      "{'name': 'South Indian Vibes Dehradun', 'rating': '5', 'review': '( 2 Reviews )', 'date': datetime.date(2023, 10, 1)}\n",
      "{'name': 'The Chef Restaurant Dehradun', 'rating': '5', 'review': '( 2 Reviews )', 'date': datetime.date(2023, 10, 1)}\n",
      "{'name': 'Level One Restaurant Dehradun', 'rating': '5', 'review': '( 2 Reviews )', 'date': datetime.date(2023, 10, 1)}\n",
      "{'name': 'All Day Breakfast Dehradun', 'rating': '5', 'review': '( 1 Reviews )', 'date': datetime.date(2023, 10, 1)}\n",
      "{'name': 'Noodle House Restaurant N Cafe', 'rating': '5', 'review': '( 1 Reviews )', 'date': datetime.date(2023, 10, 1)}\n"
     ]
    }
   ],
   "source": [
    "#CafeAndRestaurant = []\n",
    "\n",
    "for link in urls:\n",
    "    r = requests.get(link, headers = headers)\n",
    "\n",
    "    soup1 = BeautifulSoup(r.content, 'lxml')\n",
    "    soup2 = BeautifulSoup(soup1.prettify(), 'lxml')\n",
    "\n",
    "    name = soup2.find('h1', style = \"margin-top:10px;font-size:25px;\").get_text().strip()\n",
    "\n",
    "    rating = soup2.find('span', style = \"font-size:16px!important;\").get_text().strip()[:1]\n",
    "\n",
    "    review = soup2.find('span', style = \"font-size:16px!important;\").get_text().strip()[-13:]\n",
    "    \n",
    "    day = datetime.date.today()\n",
    "\n",
    "    CafeAndRestaurant = {\n",
    "        'name': name,\n",
    "        'rating': rating,\n",
    "        'review': review,\n",
    "        'date': day\n",
    "    }\n",
    "    \n",
    "    print(CafeAndRestaurant)"
   ]
  },
  {
   "cell_type": "code",
   "execution_count": null,
   "metadata": {},
   "outputs": [],
   "source": []
  }
 ],
 "metadata": {
  "kernelspec": {
   "display_name": "Python 3",
   "language": "python",
   "name": "python3"
  },
  "language_info": {
   "codemirror_mode": {
    "name": "ipython",
    "version": 3
   },
   "file_extension": ".py",
   "mimetype": "text/x-python",
   "name": "python",
   "nbconvert_exporter": "python",
   "pygments_lexer": "ipython3",
   "version": "3.10.10"
  },
  "orig_nbformat": 4
 },
 "nbformat": 4,
 "nbformat_minor": 2
}
